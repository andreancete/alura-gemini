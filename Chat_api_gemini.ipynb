{
  "nbformat": 4,
  "nbformat_minor": 0,
  "metadata": {
    "colab": {
      "provenance": [],
      "authorship_tag": "ABX9TyPrETY2d0E3W/sqHctyPuzp",
      "include_colab_link": true
    },
    "kernelspec": {
      "name": "python3",
      "display_name": "Python 3"
    },
    "language_info": {
      "name": "python"
    }
  },
  "cells": [
    {
      "cell_type": "markdown",
      "metadata": {
        "id": "view-in-github",
        "colab_type": "text"
      },
      "source": [
        "<a href=\"https://colab.research.google.com/github/andreancete/alura-gemini/blob/main/Chat_api_gemini.ipynb\" target=\"_parent\"><img src=\"https://colab.research.google.com/assets/colab-badge.svg\" alt=\"Open In Colab\"/></a>"
      ]
    },
    {
      "cell_type": "code",
      "source": [
        "from os import close\n",
        "\"\"\"\n",
        "At the command line, only need to run once to install the package via pip:\n",
        "\n",
        "$ pip install google-generativeai\n",
        "\"\"\"\n",
        "\n",
        "from google.colab import userdata\n",
        "api_key = userdata.get('SECRET_KEY')\n",
        "genai.configure(api_key=api_key)\n",
        "\n",
        "# Set up the model\n",
        "generation_config = {\n",
        "  \"temperature\": 1,\n",
        "  \"top_p\": 0.95,\n",
        "  \"top_k\": 0,\n",
        "  \"max_output_tokens\": 8192,\n",
        "}\n",
        "\n",
        "safety_settings = [\n",
        "  {\n",
        "    \"category\": \"HARM_CATEGORY_HARASSMENT\",\n",
        "    \"threshold\": \"BLOCK_MEDIUM_AND_ABOVE\"\n",
        "  },\n",
        "  {\n",
        "    \"category\": \"HARM_CATEGORY_HATE_SPEECH\",\n",
        "    \"threshold\": \"BLOCK_MEDIUM_AND_ABOVE\"\n",
        "  },\n",
        "  {\n",
        "    \"category\": \"HARM_CATEGORY_SEXUALLY_EXPLICIT\",\n",
        "    \"threshold\": \"BLOCK_MEDIUM_AND_ABOVE\"\n",
        "  },\n",
        "  {\n",
        "    \"category\": \"HARM_CATEGORY_DANGEROUS_CONTENT\",\n",
        "    \"threshold\": \"BLOCK_MEDIUM_AND_ABOVE\"\n",
        "  },\n",
        "]\n",
        "\n",
        "import google.generativeai as genai\n",
        "#Melhorando a visualização\n",
        "#Código disponível em https://ai.google.dev/tutorials/python_quickstart#import_packages\n",
        "import textwrap\n",
        "from IPython.display import display\n",
        "from IPython.display import Markdown\n",
        "\n",
        "def to_markdown(text):\n",
        "  text = text.replace('•', '  *')\n",
        "  return Markdown(textwrap.indent(text, '> ', predicate=lambda _: True))\n",
        "\n",
        "display(to_markdown(f'Com quem deseja conversar?'))\n",
        "display(to_markdown(f'1-Amigo conselheiro'))\n",
        "display(to_markdown(f'2-Amigo chegado'))\n",
        "display(to_markdown(f'Digite 1 ou 2 ou então descreva o tipo de pessoa que você deseja conversar'))\n",
        "tipo= input('')\n",
        "if tipo == \"1\":\n",
        "  system_instruction = \"Você é um amigo que pretende ajudar as pessoas através de conselhos de auto ajuda e linguagem não violenta.\"\n",
        "elif tipo == \"2\":\n",
        "  system_instruction = \"Você é um amigo muito chegado, que mora na praia, é surfista, adora jogar bola e conversar usando gírias.\"\n",
        "else:\n",
        "  system_instruction = \"Você é um \"+ tipo\n",
        "  #Termina o programa\n",
        "  #import sys\n",
        "  #sys.exit()\n",
        "\n",
        "\n",
        "model = genai.GenerativeModel(model_name=\"gemini-1.5-pro-latest\",\n",
        "                              generation_config=generation_config,\n",
        "                              system_instruction=system_instruction,\n",
        "                              safety_settings=safety_settings)\n",
        "\n",
        "chat = model.start_chat(history=[])\n",
        "\n",
        "prompt = input('Ola amigo em que posso ajuda-lo hoje? : ')\n",
        "\n",
        "while prompt != \"fim\":\n",
        "  response = chat.send_message(prompt)\n",
        "  display(to_markdown(f'**Amigo**: {response.text}'))\n",
        "  print('-------------------------------------------')\n",
        "\n",
        "  print('Digite fim para terminar..')\n",
        "  prompt = input('Esperando prompt: ')\n",
        "\n",
        "\n",
        "print('-----------------CONVERSA ENCERRADA--------------------------')\n",
        "\n",
        "#Imprimindo o histórico\n",
        "#for message in chat.history:\n",
        "#  display(to_markdown(f'**{message.role}**: {message.parts[0].text}'))\n",
        "#  print('-------------------------------------------')"
      ],
      "metadata": {
        "colab": {
          "base_uri": "https://localhost:8080/",
          "height": 306
        },
        "id": "kJ4yXXLfgPBZ",
        "outputId": "629f8a27-a8ef-4143-e46a-5571e00df96a"
      },
      "execution_count": 29,
      "outputs": [
        {
          "output_type": "display_data",
          "data": {
            "text/plain": [
              "<IPython.core.display.Markdown object>"
            ],
            "text/markdown": "> Com quem deseja conversar?"
          },
          "metadata": {}
        },
        {
          "output_type": "display_data",
          "data": {
            "text/plain": [
              "<IPython.core.display.Markdown object>"
            ],
            "text/markdown": "> 1-Amigo conselheiro"
          },
          "metadata": {}
        },
        {
          "output_type": "display_data",
          "data": {
            "text/plain": [
              "<IPython.core.display.Markdown object>"
            ],
            "text/markdown": "> 2-Amigo chegado"
          },
          "metadata": {}
        },
        {
          "output_type": "display_data",
          "data": {
            "text/plain": [
              "<IPython.core.display.Markdown object>"
            ],
            "text/markdown": "> Digite 1 ou 2 ou então descreva o tipo de pessoa que você deseja conversar"
          },
          "metadata": {}
        },
        {
          "name": "stdout",
          "output_type": "stream",
          "text": [
            "1\n",
            "Ola amigo em que posso ajuda-lo hoje? : ola\n"
          ]
        },
        {
          "output_type": "display_data",
          "data": {
            "text/plain": [
              "<IPython.core.display.Markdown object>"
            ],
            "text/markdown": "> **Amigo**: Olá! 👋  Como posso te ajudar hoje? 😊\n"
          },
          "metadata": {}
        },
        {
          "output_type": "stream",
          "name": "stdout",
          "text": [
            "-------------------------------------------\n",
            "Digite fim para terminar..\n",
            "Esperando prompt: fim\n",
            "-----------------CONVERSA ENCERRADA--------------------------\n"
          ]
        }
      ]
    },
    {
      "cell_type": "markdown",
      "source": [],
      "metadata": {
        "id": "14DNCT8yW1_3"
      }
    }
  ]
}